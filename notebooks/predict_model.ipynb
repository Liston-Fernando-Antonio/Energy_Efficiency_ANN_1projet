{
 "cells": [
  {
   "cell_type": "code",
   "execution_count": null,
   "id": "c1c8f490",
   "metadata": {},
   "outputs": [],
   "source": [
    "# predict_model.ipynb\n",
    "import pandas as pd\n",
    "import numpy as np\n",
    "from tensorflow.keras.models import load_model\n",
    "from joblib import load\n",
    "from tensorflow.keras import metrics"
   ]
  },
  {
   "cell_type": "code",
   "execution_count": null,
   "id": "d8b15d4f",
   "metadata": {},
   "outputs": [],
   "source": [
    "# Custom objects\n",
    "custom_objects = {\n",
    "    \"mse\": metrics.MeanSquaredError(),\n",
    "    \"mae\": metrics.MeanAbsoluteError()\n",
    "}"
   ]
  },
  {
   "cell_type": "code",
   "execution_count": null,
   "id": "6f50e4e9",
   "metadata": {},
   "outputs": [],
   "source": [
    "# Charger le modèle\n",
    "model = load_model(\"models/Energy_Efficiency_Model.h5\", custom_objects=custom_objects)\n",
    "print(\"✅ Modèle chargé avec custom_objects.\")\n",
    "\n",
    "# Charger les scalers\n",
    "scaler_X = load(\"models/scaler_X.pkl\")\n",
    "scaler_y = load(\"models/scaler_y.pkl\")\n",
    "print(\"✅ Scalers chargés.\")"
   ]
  },
  {
   "cell_type": "code",
   "execution_count": null,
   "id": "a9c99bc2",
   "metadata": {},
   "outputs": [],
   "source": [
    "# Nouveaux exemples\n",
    "new_data = [\n",
    "    {\n",
    "        \"Relative_Compactness\": 0.95,\n",
    "        \"Surface_Area\": 520.0,\n",
    "        \"Wall_Area\": 300,\n",
    "        \"Roof_Area\": 115.0,\n",
    "        \"Overall_Height\": 7.5,\n",
    "        \"Orientation\": 3,\n",
    "        \"Glazing_Area\": 0.1,\n",
    "        \"Glazing_Area_Distribution\": 1\n",
    "    },\n",
    "    {\n",
    "        \"Relative_Compactness\": 0.88,\n",
    "        \"Surface_Area\": 570.0,\n",
    "        \"Wall_Area\": 325,\n",
    "        \"Roof_Area\": 125.0,\n",
    "        \"Overall_Height\": 6.5,\n",
    "        \"Orientation\": 4,\n",
    "        \"Glazing_Area\": 0.2,\n",
    "        \"Glazing_Area_Distribution\": 2\n",
    "    }\n",
    "]"
   ]
  },
  {
   "cell_type": "code",
   "execution_count": null,
   "id": "1ca992f5",
   "metadata": {},
   "outputs": [],
   "source": [
    "# Convertir en DataFrame\n",
    "df_new = pd.DataFrame(new_data)\n",
    "\n",
    "# Normaliser\n",
    "X_new_scaled = scaler_X.transform(df_new)\n",
    "\n",
    "# Prédictions\n",
    "pred_scaled = model.predict(X_new_scaled)\n",
    "\n",
    "# Retour à l’échelle originale\n",
    "predictions = scaler_y.inverse_transform(pred_scaled)"
   ]
  },
  {
   "cell_type": "code",
   "execution_count": null,
   "id": "ec0bbdd7",
   "metadata": {},
   "outputs": [],
   "source": [
    "# Afficher résultats\n",
    "for i, row in enumerate(predictions):\n",
    "    print(f\"🔮 Échantillon {i+1} : Heating_Load={row[0]:.2f}, Cooling_Load={row[1]:.2f}\")"
   ]
  }
 ],
 "metadata": {
  "kernelspec": {
   "display_name": "Python 3",
   "language": "python",
   "name": "python3"
  },
  "language_info": {
   "name": "python",
   "version": "3.11.4"
  }
 },
 "nbformat": 4,
 "nbformat_minor": 5
}
