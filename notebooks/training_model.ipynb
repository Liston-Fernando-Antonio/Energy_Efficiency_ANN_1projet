{
 "cells": [
  {
   "cell_type": "code",
   "execution_count": null,
   "id": "8a3bf93f",
   "metadata": {},
   "outputs": [],
   "source": [
    "# training_model.ipynb\n",
    "import pandas as pd \n",
    "import numpy as np\n",
    "import seaborn as sns\n",
    "import matplotlib.pyplot as plt\n",
    "\n",
    "from sklearn.model_selection import train_test_split\n",
    "from sklearn.preprocessing import MinMaxScaler\n",
    "from sklearn.metrics import mean_absolute_error, mean_squared_error\n",
    "\n",
    "import tensorflow as tf\n",
    "from tensorflow.keras.models import Sequential\n",
    "from tensorflow.keras.layers import Dense\n",
    "\n",
    "import mlflow\n",
    "import mlflow.keras"
   ]
  },
  {
   "cell_type": "code",
   "execution_count": null,
   "id": "80258f4e",
   "metadata": {},
   "outputs": [],
   "source": [
    "# Charger les données\n",
    "file_path = \"data/energy_efficiency_data.csv\"\n",
    "df = pd.read_csv(file_path)\n",
    "\n",
    "# Séparer features et labels\n",
    "X = df.drop(columns=[\"Heating_Load\", \"Cooling_Load\"]).values\n",
    "y = df[[\"Heating_Load\", \"Cooling_Load\"]].values\n"
   ]
  },
  {
   "cell_type": "code",
   "execution_count": null,
   "id": "2838af2b",
   "metadata": {},
   "outputs": [],
   "source": [
    "# Normalisation\n",
    "scaler_X = MinMaxScaler()\n",
    "X_scaled = scaler_X.fit_transform(X)\n",
    "\n",
    "scaler_y = MinMaxScaler()\n",
    "y_scaled = scaler_y.fit_transform(y)\n",
    "\n",
    "# Split train/test\n",
    "X_train, X_test, y_train, y_test = train_test_split(\n",
    "    X_scaled, y_scaled, test_size=0.2, random_state=42\n",
    ")\n"
   ]
  },
  {
   "cell_type": "code",
   "execution_count": null,
   "id": "fdb49d87",
   "metadata": {},
   "outputs": [],
   "source": [
    "# Création du modèle ANN\n",
    "model = Sequential([\n",
    "    Dense(64, activation=\"relu\", input_shape=(X_train.shape[1],)),\n",
    "    Dense(32, activation=\"relu\"),\n",
    "    Dense(2, activation=\"linear\")\n",
    "])\n",
    "\n",
    "model.compile(optimizer=\"adam\", loss=\"mse\", metrics=[\"mae\"])\n",
    "\n",
    "# MLflow\n",
    "mlflow.set_experiment(\"Energy_Efficiency_ANN\")\n",
    "with mlflow.start_run():\n",
    "    history = model.fit(\n",
    "        X_train, y_train,\n",
    "        validation_data=(X_test, y_test),\n",
    "        epochs=100,\n",
    "        batch_size=32,\n",
    "        verbose=1\n",
    "    )\n",
    "\n",
    "    mlflow.keras.log_model(model, artifact_path=\"model\")\n",
    "    mlflow.log_param(\"epochs\", 100)\n",
    "    mlflow.log_param(\"batch_size\", 32)\n",
    "    mlflow.log_param(\"optimizer\", \"adam\")\n",
    "\n",
    "    # Évaluation\n",
    "    y_pred = model.predict(X_test)\n",
    "    mae = mean_absolute_error(y_test, y_pred)\n",
    "    mse = mean_squared_error(y_test, y_pred)\n",
    "\n",
    "    mlflow.log_metric(\"mae\", mae)\n",
    "    mlflow.log_metric(\"mse\", mse)\n",
    "\n",
    "    print(f\"Test MAE: {mae:.4f}, Test MSE: {mse:.4f}\")\n"
   ]
  },
  {
   "cell_type": "code",
   "execution_count": null,
   "id": "86c62074",
   "metadata": {},
   "outputs": [],
   "source": [
    "# Sauvegarde du modèle et scalers\n",
    "model.save(\"models/Energy_Efficiency_Model.h5\")\n",
    "\n",
    "from joblib import dump\n",
    "dump(scaler_X, \"models/scaler_X.pkl\")\n",
    "dump(scaler_y, \"models/scaler_y.pkl\")"
   ]
  },
  {
   "cell_type": "code",
   "execution_count": null,
   "id": "937c105c",
   "metadata": {},
   "outputs": [],
   "source": [
    "# Visualisation\n",
    "plt.plot(history.history[\"loss\"], label=\"train_loss\")\n",
    "plt.plot(history.history[\"val_loss\"], label=\"val_loss\")\n",
    "plt.legend()\n",
    "plt.title(\"Courbes de perte\")\n",
    "plt.xlabel(\"Epochs\")\n",
    "plt.ylabel(\"MSE Loss\")\n",
    "plt.show()"
   ]
  },
  {
   "cell_type": "code",
   "execution_count": null,
   "id": "22e6eedd",
   "metadata": {},
   "outputs": [],
   "source": [
    "# Prédictions vs réel\n",
    "y_pred_rescaled = scaler_y.inverse_transform(y_pred)\n",
    "y_test_rescaled = scaler_y.inverse_transform(y_test)\n",
    "\n",
    "plt.figure(figsize=(6,6))\n",
    "plt.scatter(y_test_rescaled[:,0], y_pred_rescaled[:,0], alpha=0.7)\n",
    "plt.plot([y_test_rescaled[:,0].min(), y_test_rescaled[:,0].max()],\n",
    "         [y_test_rescaled[:,0].min(), y_test_rescaled[:,0].max()],\n",
    "         color=\"red\", linestyle=\"--\")\n",
    "plt.xlabel(\"Valeurs réelles (Heating_Load)\")\n",
    "plt.ylabel(\"Prédictions ANN\")\n",
    "plt.title(\"Prédictions vs Réel - Heating Load\")\n",
    "plt.show()\n"
   ]
  }
 ],
 "metadata": {
  "kernelspec": {
   "display_name": "venv",
   "language": "python",
   "name": "python3"
  },
  "language_info": {
   "name": "python",
   "version": "3.11.4"
  }
 },
 "nbformat": 4,
 "nbformat_minor": 5
}
